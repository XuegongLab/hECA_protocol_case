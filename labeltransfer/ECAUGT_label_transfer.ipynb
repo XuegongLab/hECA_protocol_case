{
 "cells": [
  {
   "cell_type": "code",
   "execution_count": 1,
   "id": "f725800a-31a7-446c-b353-e6c61dac28ee",
   "metadata": {
    "execution": {
     "iopub.execute_input": "2022-05-11T02:44:44.339252Z",
     "iopub.status.busy": "2022-05-11T02:44:44.334861Z",
     "iopub.status.idle": "2022-05-11T02:44:46.484636Z",
     "shell.execute_reply": "2022-05-11T02:44:46.483548Z"
    },
    "tags": []
   },
   "outputs": [
    {
     "name": "stderr",
     "output_type": "stream",
     "text": [
      "Attaching SeuratObject\n",
      "\n"
     ]
    }
   ],
   "source": [
    "library(Seurat)\n",
    "library(data.table)"
   ]
  },
  {
   "cell_type": "code",
   "execution_count": 63,
   "id": "5ab01448-8b74-40c1-8a4e-37820b26a845",
   "metadata": {
    "execution": {
     "iopub.execute_input": "2022-05-11T03:31:03.634453Z",
     "iopub.status.busy": "2022-05-11T03:31:03.631582Z",
     "iopub.status.idle": "2022-05-11T03:31:19.127559Z",
     "shell.execute_reply": "2022-05-11T03:31:19.125890Z"
    },
    "tags": []
   },
   "outputs": [],
   "source": [
    "i=0\n",
    "expdf = as.data.frame(t(fread(paste0('/home/test2/hECA_data/hECA_exprs_',i,'.csv'))))\n",
    "expdf = expdf[-1,]\n",
    "metadf = as.data.frame(fread(paste0('/home/test2/hECA_data/hECA_metadata_',i,'.csv')))"
   ]
  },
  {
   "cell_type": "code",
   "execution_count": 64,
   "id": "16e38df5-3701-4ac4-9e71-a16d44e4a46e",
   "metadata": {
    "execution": {
     "iopub.execute_input": "2022-05-11T03:31:19.130333Z",
     "iopub.status.busy": "2022-05-11T03:31:19.129375Z",
     "iopub.status.idle": "2022-05-11T03:37:55.905469Z",
     "shell.execute_reply": "2022-05-11T03:37:55.903996Z"
    },
    "scrolled": true,
    "tags": []
   },
   "outputs": [
    {
     "name": "stderr",
     "output_type": "stream",
     "text": [
      "/home/test2/hECA_data/hECA_exprs_1.csv\n",
      "\n",
      "/home/test2/hECA_data/hECA_exprs_2.csv\n",
      "\n",
      "/home/test2/hECA_data/hECA_exprs_3.csv\n",
      "\n",
      "/home/test2/hECA_data/hECA_exprs_4.csv\n",
      "\n",
      "/home/test2/hECA_data/hECA_exprs_5.csv\n",
      "\n",
      "/home/test2/hECA_data/hECA_exprs_6.csv\n",
      "\n",
      "/home/test2/hECA_data/hECA_exprs_7.csv\n",
      "\n",
      "/home/test2/hECA_data/hECA_exprs_8.csv\n",
      "\n",
      "/home/test2/hECA_data/hECA_exprs_9.csv\n",
      "\n",
      "/home/test2/hECA_data/hECA_exprs_10.csv\n",
      "\n",
      "/home/test2/hECA_data/hECA_exprs_11.csv\n",
      "\n",
      "/home/test2/hECA_data/hECA_exprs_12.csv\n",
      "\n",
      "/home/test2/hECA_data/hECA_exprs_13.csv\n",
      "\n",
      "/home/test2/hECA_data/hECA_exprs_14.csv\n",
      "\n",
      "/home/test2/hECA_data/hECA_exprs_15.csv\n",
      "\n",
      "/home/test2/hECA_data/hECA_exprs_16.csv\n",
      "\n",
      "/home/test2/hECA_data/hECA_exprs_17.csv\n",
      "\n",
      "/home/test2/hECA_data/hECA_exprs_18.csv\n",
      "\n"
     ]
    }
   ],
   "source": [
    "for (i in 1:18){\n",
    "    message(paste0('/home/test2/hECA_data/hECA_exprs_',i,'.csv'))\n",
    "    tmpexpdf = as.data.frame(t(fread(paste0('/home/test2/hECA_data/hECA_exprs_',i,'.csv'))))\n",
    "    tmpexpdf = tmpexpdf[-1,]\n",
    "    tmpmetadf = as.data.frame(fread(paste0('/home/test2/hECA_data/hECA_metadata_',i,'.csv')))\n",
    "    expdf = cbind(expdf,tmpexpdf)\n",
    "    metadf = rbind(metadf,tmpmetadf)    \n",
    "}\n"
   ]
  },
  {
   "cell_type": "code",
   "execution_count": 85,
   "id": "7d3deb78-f056-44fc-a59a-ebe0955d2909",
   "metadata": {
    "execution": {
     "iopub.execute_input": "2022-05-11T05:01:49.911920Z",
     "iopub.status.busy": "2022-05-11T05:01:49.906948Z",
     "iopub.status.idle": "2022-05-11T05:04:50.166056Z",
     "shell.execute_reply": "2022-05-11T05:04:50.163462Z"
    },
    "tags": []
   },
   "outputs": [],
   "source": [
    "row.names(metadf) <- metadf$cid\n",
    "metadf = metadf[,1:18]\n",
    "colnames(expdf) = rownames(metadf)\n",
    "ref_obj <- CreateSeuratObject(expdf,  meta.data = metadf)"
   ]
  },
  {
   "cell_type": "code",
   "execution_count": 89,
   "id": "7b6b73d4-09a1-4a92-a3c3-08d78d5e55c6",
   "metadata": {
    "execution": {
     "iopub.execute_input": "2022-05-11T05:06:58.309374Z",
     "iopub.status.busy": "2022-05-11T05:06:58.305487Z",
     "iopub.status.idle": "2022-05-11T05:14:17.002546Z",
     "shell.execute_reply": "2022-05-11T05:14:16.999053Z"
    },
    "tags": []
   },
   "outputs": [],
   "source": [
    "saveRDS(ref_obj, file = \"Neuron_hECA_reference.rds\")"
   ]
  },
  {
   "cell_type": "code",
   "execution_count": 47,
   "id": "88924cf1-4cfa-4791-a4df-ec637546b786",
   "metadata": {
    "execution": {
     "iopub.execute_input": "2022-05-11T03:12:42.295144Z",
     "iopub.status.busy": "2022-05-11T03:12:42.292174Z",
     "iopub.status.idle": "2022-05-11T03:12:52.492967Z",
     "shell.execute_reply": "2022-05-11T03:12:52.491742Z"
    },
    "tags": []
   },
   "outputs": [],
   "source": [
    "data.matrix <- as.data.frame(fread(\"/home/test2/UniformedExpression.csv\"))\n",
    "row.names(data.matrix) <- data.matrix$V1\n",
    "data.matrix = data.matrix[,-1]\n",
    "cellid = colnames(data.matrix)\n",
    "samp.devStage <- data.frame(samp.devStage = ifelse(grepl(\"^Fetal\",cellid),\"Fetal\",\"Adult\"))\n",
    "rownames(samp.devStage) = cellid\n",
    "\n",
    "# create Seurat object\n",
    "query_obj <- CreateSeuratObject(counts = as.matrix(data.matrix),  meta.data = samp.devStage)"
   ]
  },
  {
   "cell_type": "code",
   "execution_count": 91,
   "id": "f8a120d0-78f8-4941-9af7-faaa8a9c465e",
   "metadata": {
    "execution": {
     "iopub.execute_input": "2022-05-11T05:44:03.061995Z",
     "iopub.status.busy": "2022-05-11T05:44:03.057327Z",
     "iopub.status.idle": "2022-05-11T05:44:03.111802Z",
     "shell.execute_reply": "2022-05-11T05:44:03.109008Z"
    }
   },
   "outputs": [
    {
     "data": {
      "text/plain": [
       "An object of class Seurat \n",
       "16614 features across 27412 samples within 1 assay \n",
       "Active assay: RNA (16614 features, 0 variable features)"
      ]
     },
     "metadata": {},
     "output_type": "display_data"
    }
   ],
   "source": [
    "# QC\n",
    "mito_genes <- rownames(query_obj)[grep(\"^[Mm][Tt]-\",rownames(query_obj))]\n",
    "query_obj <- PercentageFeatureSet(query_obj, \"^MT-\", col.name = \"percent_mito\")\n",
    "ribo_genes <- rownames(query_obj)[grep(\"^RP[SL]\",rownames(query_obj))]\n",
    "query_obj <- PercentageFeatureSet(query_obj, \"^RP[SL]\", col.name = \"percent_ribo\")\n",
    "hemoglobin_genes <- rownames(query_obj)[grep(\"^HB[^(P)]\",rownames(query_obj))]\n",
    "query_obj <- PercentageFeatureSet(query_obj, \"^HB[^(P)]\", col.name = \"percent_hb\")\n",
    "selected_c <- WhichCells(query_obj, expression = nFeature_RNA > 200)# for UMI\n",
    "selected_f <- rownames(query_obj)[Matrix::rowSums(query_obj) > 3]\n",
    "query_obj.filt <- subset(query_obj, features = selected_f, cells = selected_c)"
   ]
  },
  {
   "cell_type": "code",
   "execution_count": 95,
   "id": "5489deb5-c928-4be2-a7cd-64f0a94fadbb",
   "metadata": {
    "execution": {
     "iopub.execute_input": "2022-05-11T05:53:15.135614Z",
     "iopub.status.busy": "2022-05-11T05:53:15.131797Z",
     "iopub.status.idle": "2022-05-11T05:54:06.781096Z",
     "shell.execute_reply": "2022-05-11T05:54:06.776766Z"
    },
    "tags": []
   },
   "outputs": [],
   "source": [
    "saveRDS(query_obj.filt, file = \"Neuron_query.rds\")"
   ]
  },
  {
   "cell_type": "code",
   "execution_count": null,
   "id": "4c5bc17f-b61e-4ee2-a830-4af9f5bcb08e",
   "metadata": {},
   "outputs": [],
   "source": [
    "# 1min\n",
    "refrds = readRDS('/home/hms/workspace/Neuron_hECA_reference.rds')\n",
    "query_obj.filt = readRDS('/home/hms/workspace/Neuron_query.rds')"
   ]
  },
  {
   "cell_type": "code",
   "execution_count": null,
   "id": "66a3c9e1-2a7b-4832-a9c6-77ebead18d19",
   "metadata": {},
   "outputs": [],
   "source": [
    "# 7min\n",
    "gene.use = intersect(row.names(refrds),row.names(query_obj.filt))\n",
    "refrds.filt <- subset(refrds, features = gene.use)\n",
    "ct.ref <- refrds.filt$cell_type\n",
    "trainedR <- trainSingleR(refrds.filt@assays$RNA@counts, ct.ref, de.method = \"wilcox\")"
   ]
  },
  {
   "cell_type": "code",
   "execution_count": null,
   "id": "53de2e55-994c-46e4-b2f0-fc832aceb194",
   "metadata": {},
   "outputs": [],
   "source": [
    "# 3h\n",
    "predict <- classifySingleR(query_obj.filt@assays$RNA@data,trainedR)\n",
    "saveRDS(predict,'SingleR_transfer.rds')"
   ]
  },
  {
   "cell_type": "code",
   "execution_count": 96,
   "id": "000e1eca-6a46-4f5f-87f3-4c9f970f9a86",
   "metadata": {
    "execution": {
     "iopub.execute_input": "2022-05-11T11:13:21.869700Z",
     "iopub.status.busy": "2022-05-11T11:13:21.865614Z",
     "iopub.status.idle": "2022-05-11T11:13:21.995749Z",
     "shell.execute_reply": "2022-05-11T11:13:21.993878Z"
    }
   },
   "outputs": [],
   "source": [
    "predict = readRDS('/home/test2/SingleR_transfer.rds')"
   ]
  },
  {
   "cell_type": "code",
   "execution_count": 100,
   "id": "73015978-d7db-4a93-94a5-3a76fc2bd5ea",
   "metadata": {
    "execution": {
     "iopub.execute_input": "2022-05-11T11:14:02.397409Z",
     "iopub.status.busy": "2022-05-11T11:14:02.394351Z",
     "iopub.status.idle": "2022-05-11T11:14:02.449226Z",
     "shell.execute_reply": "2022-05-11T11:14:02.447343Z"
    },
    "tags": []
   },
   "outputs": [
    {
     "data": {
      "text/plain": [
       "DataFrame with 27412 rows and 5 columns\n",
       "                                            scores          first.labels\n",
       "                                          <matrix>           <character>\n",
       "Ex3e            0.1393036:0.0797517:-0.0189485:...     Excitatory neuron\n",
       "Ex2             0.0903021:0.0257629:-0.1092682:...  PV inhibitory neuron\n",
       "In1b            0.1796569:0.1372260: 0.0113191:... VIP inhibitory neuron\n",
       "Oligo           0.1466988:0.1289090: 0.0914283:... VIP inhibitory neuron\n",
       "Ex1             0.0731952:0.0235708:-0.0988549:...     Excitatory neuron\n",
       "...                                            ...                   ...\n",
       "Microglia.312 0.0198871:-0.01109635:-0.1011555:...     Excitatory neuron\n",
       "Microglia.313 0.0698576: 0.02837352:-0.0333879:...     Excitatory neuron\n",
       "Microglia.314 0.0832008: 0.08401538: 0.0256835:...     Excitatory neuron\n",
       "Microglia.315 0.0407454: 0.00299379:-0.0794683:...     Excitatory neuron\n",
       "Microglia.316 0.1002097: 0.06342319:-0.0242063:...  PV inhibitory neuron\n",
       "                   tuning.scores                labels         pruned.labels\n",
       "                     <DataFrame>           <character>           <character>\n",
       "Ex3e          0.602049:0.5012637     Excitatory neuron     Excitatory neuron\n",
       "Ex2           0.550610:0.4647727  PV inhibitory neuron  PV inhibitory neuron\n",
       "In1b          0.562912:0.4599086 VIP inhibitory neuron VIP inhibitory neuron\n",
       "Oligo         0.266154:0.0858421       Horizontal cell       Horizontal cell\n",
       "Ex1           0.632221:0.5301137     Excitatory neuron     Excitatory neuron\n",
       "...                          ...                   ...                   ...\n",
       "Microglia.312  0.441704:0.336867     Excitatory neuron     Excitatory neuron\n",
       "Microglia.313  0.274434:0.174353     Excitatory neuron     Excitatory neuron\n",
       "Microglia.314  0.235251:0.181469     Excitatory neuron     Excitatory neuron\n",
       "Microglia.315  0.281269:0.205963  PV inhibitory neuron  PV inhibitory neuron\n",
       "Microglia.316  0.496742:0.369881  PV inhibitory neuron  PV inhibitory neuron"
      ]
     },
     "metadata": {},
     "output_type": "display_data"
    }
   ],
   "source": [
    "predict"
   ]
  },
  {
   "cell_type": "code",
   "execution_count": null,
   "id": "1f71f7ce-52f6-4534-ae4f-a46b2e26d0eb",
   "metadata": {},
   "outputs": [],
   "source": []
  }
 ],
 "metadata": {
  "kernelspec": {
   "display_name": "R 4.0",
   "language": "R",
   "name": "ir4"
  },
  "language_info": {
   "codemirror_mode": "r",
   "file_extension": ".r",
   "mimetype": "text/x-r-source",
   "name": "R",
   "pygments_lexer": "r",
   "version": "4.1.2"
  }
 },
 "nbformat": 4,
 "nbformat_minor": 5
}
